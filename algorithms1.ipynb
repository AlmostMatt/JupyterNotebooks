{
 "cells": [
  {
   "cell_type": "code",
   "execution_count": 31,
   "metadata": {},
   "outputs": [],
   "source": [
    "# Hi! this is Matt\n",
    "\n",
    "import time\n",
    "\n",
    "def timediff(start, end):\n",
    "    return \"%s microseconds\" % int(1000000*(end-start))"
   ]
  },
  {
   "cell_type": "code",
   "execution_count": 32,
   "metadata": {},
   "outputs": [
    {
     "name": "stdout",
     "output_type": "stream",
     "text": [
      "832040\n",
      "278410 microseconds\n"
     ]
    }
   ],
   "source": [
    "# each fib() calls fib() twice, so fib(30) is ~2^30 calls\n",
    "\n",
    "def fib(n):\n",
    "    if n < 3:\n",
    "        return 1\n",
    "    return fib(n-1) + fib(n-2)\n",
    "\n",
    "start = time.time()\n",
    "print(fib(30))\n",
    "end = time.time()\n",
    "print(timediff(start, end))"
   ]
  },
  {
   "cell_type": "code",
   "execution_count": 33,
   "metadata": {},
   "outputs": [
    {
     "name": "stdout",
     "output_type": "stream",
     "text": [
      "832040\n",
      "272 microseconds\n"
     ]
    }
   ],
   "source": [
    "# The first fib(k) stores the result in fibs. The following fib(k) calls will just return the precomputed result\n",
    "fibs = {1:1, 2:1}\n",
    "\n",
    "def fib(n):\n",
    "    if n in fibs:\n",
    "        return fibs[n]\n",
    "    fibs[n] = fib(n-1) + fib(n-2)\n",
    "    return fibs[n]\n",
    "\n",
    "start = time.time()\n",
    "print(fib(30))\n",
    "end = time.time()\n",
    "print(timediff(start, end))"
   ]
  },
  {
   "cell_type": "code",
   "execution_count": 35,
   "metadata": {},
   "outputs": [
    {
     "name": "stdout",
     "output_type": "stream",
     "text": [
      "832040\n",
      "225 microseconds\n"
     ]
    }
   ],
   "source": [
    "# This function has no recursion, and it only computes each term once. So it is a bit faster.\n",
    "\n",
    "def fib(n):\n",
    "    a,b = 1,1\n",
    "    for _ in range(n-2):\n",
    "        a,b = b,a+b\n",
    "    return b\n",
    "\n",
    "start = time.time()\n",
    "print(fib(30))\n",
    "end = time.time()\n",
    "print(timediff(start, end))"
   ]
  },
  {
   "cell_type": "code",
   "execution_count": null,
   "metadata": {},
   "outputs": [],
   "source": []
  }
 ],
 "metadata": {
  "kernelspec": {
   "display_name": "Python 3",
   "language": "python",
   "name": "python3"
  },
  "language_info": {
   "codemirror_mode": {
    "name": "ipython",
    "version": 3
   },
   "file_extension": ".py",
   "mimetype": "text/x-python",
   "name": "python",
   "nbconvert_exporter": "python",
   "pygments_lexer": "ipython3",
   "version": "3.6.7"
  }
 },
 "nbformat": 4,
 "nbformat_minor": 2
}
